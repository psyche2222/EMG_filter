{
 "cells": [
  {
   "cell_type": "code",
   "execution_count": 4,
   "metadata": {},
   "outputs": [
    {
     "name": "stdout",
     "output_type": "stream",
     "text": [
      "Koefisien Numerator (b): [0.42080778 0.42080778]\n",
      "Koefisien Denominator (a): [ 1.         -0.15838444]\n"
     ]
    }
   ],
   "source": [
    "from scipy.signal import butter\n",
    "\n",
    "# Parameter filter\n",
    "order = 1\n",
    "fc = 400   # Frekuensi cutoff (Hz)\n",
    "fs = 2000  # Frekuensi sampling (Hz)\n",
    "\n",
    "# Normalisasi frekuensi\n",
    "nyquist = fs / 2\n",
    "normalized_fc = fc / nyquist\n",
    "\n",
    "# Desain filter lowpass\n",
    "b, a = butter(order, normalized_fc, btype='low', analog=False)\n",
    "\n",
    "# Output koefisien filter\n",
    "print(\"Koefisien Numerator (b):\", b)\n",
    "print(\"Koefisien Denominator (a):\", a)\n"
   ]
  }
 ],
 "metadata": {
  "kernelspec": {
   "display_name": "Python 3",
   "language": "python",
   "name": "python3"
  },
  "language_info": {
   "codemirror_mode": {
    "name": "ipython",
    "version": 3
   },
   "file_extension": ".py",
   "mimetype": "text/x-python",
   "name": "python",
   "nbconvert_exporter": "python",
   "pygments_lexer": "ipython3",
   "version": "3.11.2"
  }
 },
 "nbformat": 4,
 "nbformat_minor": 2
}
